{
  "nbformat": 4,
  "nbformat_minor": 0,
  "metadata": {
    "colab": {
      "provenance": [],
      "authorship_tag": "ABX9TyMKBd/+y0AgfCC1J4nRwB39",
      "include_colab_link": true
    },
    "kernelspec": {
      "name": "python3",
      "display_name": "Python 3"
    },
    "language_info": {
      "name": "python"
    }
  },
  "cells": [
    {
      "cell_type": "markdown",
      "metadata": {
        "id": "view-in-github",
        "colab_type": "text"
      },
      "source": [
        "<a href=\"https://colab.research.google.com/github/NiJingzhe/VirtualGuide/blob/develop/%E7%9B%B8%E4%BC%BC%E5%BA%A6%E9%AA%8C%E8%AF%81.ipynb\" target=\"_parent\"><img src=\"https://colab.research.google.com/assets/colab-badge.svg\" alt=\"Open In Colab\"/></a>"
      ]
    },
    {
      "cell_type": "code",
      "execution_count": null,
      "metadata": {
        "id": "1GgmH22HIXo2"
      },
      "outputs": [],
      "source": [
        "!pip3 install modelscope"
      ]
    },
    {
      "cell_type": "code",
      "source": [
        "!pip3 install \"modelscope[nlp]\" -f https://modelscope.oss-cn-beijing.aliyuncs.com/releases/repo.html"
      ],
      "metadata": {
        "id": "Yw75hHruJb9m"
      },
      "execution_count": null,
      "outputs": []
    },
    {
      "cell_type": "code",
      "source": [
        "!pip3 install duckduckgo-search"
      ],
      "metadata": {
        "id": "Qu0pyIMee-Nt"
      },
      "execution_count": null,
      "outputs": []
    },
    {
      "cell_type": "code",
      "source": [
        "!pip3 install openai tiktoken"
      ],
      "metadata": {
        "id": "W20bnJGnfF9m"
      },
      "execution_count": null,
      "outputs": []
    },
    {
      "cell_type": "markdown",
      "source": [
        "执行完上述两条指令，你的运行实例环境中已经存在了ModelScope Libaray了。\n",
        "\n",
        "接下来我们开始验证两种句子相似度的计算方法的优劣。\n"
      ],
      "metadata": {
        "id": "a8D0uWFNK5Na"
      }
    },
    {
      "cell_type": "code",
      "source": [
        "!ls"
      ],
      "metadata": {
        "colab": {
          "base_uri": "https://localhost:8080/"
        },
        "id": "IrErJseSLOow",
        "outputId": "5752e343-fc5a-4baf-c875-6c63702d6bc0"
      },
      "execution_count": 6,
      "outputs": [
        {
          "output_type": "stream",
          "name": "stdout",
          "text": [
            "lib  sample_data  test_questions.json\n"
          ]
        }
      ]
    },
    {
      "cell_type": "code",
      "source": [
        "import json\n",
        "from modelscope.models import Model\n",
        "from modelscope.pipelines import pipeline\n",
        "from lib.QASNet import QASNet"
      ],
      "metadata": {
        "id": "OIyvquGwLgiv"
      },
      "execution_count": 22,
      "outputs": []
    },
    {
      "cell_type": "markdown",
      "source": [
        "首先要展示的是基于StructBERT的 sentence similarity 计算"
      ],
      "metadata": {
        "id": "4W7IH_LJfXDX"
      }
    },
    {
      "cell_type": "code",
      "source": [
        "bert_pipeline = pipeline('sentence-similarity')"
      ],
      "metadata": {
        "id": "31EEizcLfdeh"
      },
      "execution_count": null,
      "outputs": []
    },
    {
      "cell_type": "markdown",
      "source": [
        "首先创建一个句子相似度比较的 pipeline。\n"
      ],
      "metadata": {
        "id": "zH0rocw8gPmJ"
      }
    },
    {
      "cell_type": "code",
      "source": [
        "question_lib = []\n",
        "\n",
        "with open(\"./test_questions.json\", encoding = 'utf-8') as input_f:\n",
        "  question_lib = list(json.loads(input_f.read())[\"questions\"])\n",
        "  input_f.close()\n",
        "\n",
        "user_q = input(\"请输入问题\")\n",
        "\n",
        "for q in question_lib:\n",
        "  result = bert_pipeline((user_q, q))\n",
        "  print(\"{} : {}, score: {}\".format(q, result[\"labels\"], result[\"scores\"]))\n"
      ],
      "metadata": {
        "colab": {
          "base_uri": "https://localhost:8080/"
        },
        "id": "BJ_GNSS0gWOP",
        "outputId": "0dead540-f5ea-4691-fcbb-79149e9e0900"
      },
      "execution_count": 29,
      "outputs": [
        {
          "name": "stdout",
          "output_type": "stream",
          "text": [
            "请输入问题花港观鱼有没有推荐的拍照地点？\n"
          ]
        },
        {
          "output_type": "stream",
          "name": "stderr",
          "text": [
            "/usr/local/lib/python3.10/dist-packages/transformers/modeling_utils.py:884: FutureWarning: The `device` argument is deprecated and will be removed in v5 of Transformers.\n",
            "  warnings.warn(\n"
          ]
        },
        {
          "output_type": "stream",
          "name": "stdout",
          "text": [
            "花港观鱼附近有哪些不错的住宿选择？ : ['不相似', '相似'], score: [0.9517964720726013, 0.048203445971012115]\n",
            "花港观鱼附近有推荐的美食店吗？ : ['不相似', '相似'], score: [0.9490622282028198, 0.050937846302986145]\n",
            "在花港观鱼可以拍到哪些美丽的风景？ : ['不相似', '相似'], score: [0.9474002718925476, 0.0525997057557106]\n",
            "花港观鱼附近有适合摄影的景点吗？ : ['不相似', '相似'], score: [0.5399062633514404, 0.4600937068462372]\n",
            "去花港观鱼旅行有哪些不同的行程路线可以选择？ : ['不相似', '相似'], score: [0.9520875215530396, 0.047912441194057465]\n",
            "花港观鱼附近还有其他值得一游的景点吗？ : ['不相似', '相似'], score: [0.95094895362854, 0.049050986766815186]\n",
            "花港观鱼附近有适合全家出游的项目吗？ : ['不相似', '相似'], score: [0.9527261257171631, 0.04727380350232124]\n",
            "去花港观鱼旅行需要准备哪些物品？ : ['不相似', '相似'], score: [0.9530989527702332, 0.046901069581508636]\n",
            "哪个季节是去花港观鱼旅行最适合的？ : ['不相似', '相似'], score: [0.9524782299995422, 0.04752180352807045]\n",
            "花港观鱼附近有适合年轻人玩的项目吗？ : ['不相似', '相似'], score: [0.9530354142189026, 0.0469646118581295]\n",
            "在花港观鱼附近有好吃的特色美食吗？ : ['不相似', '相似'], score: [0.9525179266929626, 0.04748210683465004]\n",
            "花港观鱼周边有适合拍照的美景吗？ : ['不相似', '相似'], score: [0.9395941495895386, 0.0604059211909771]\n",
            "去花港观鱼旅行时需要注意哪些安全问题？ : ['不相似', '相似'], score: [0.9532965421676636, 0.04670346528291702]\n",
            "哪种交通方式最适合去花港观鱼旅行？ : ['不相似', '相似'], score: [0.9526259899139404, 0.04737405106425285]\n",
            "花港观鱼附近有适合情侣一起玩的项目吗？ : ['不相似', '相似'], score: [0.9526593089103699, 0.047340672463178635]\n",
            "花港观鱼附近有适合小朋友玩的项目吗？ : ['不相似', '相似'], score: [0.953177809715271, 0.04682215303182602]\n",
            "在花港观鱼附近住宿的话，推荐选择哪种类型的酒店？ : ['不相似', '相似'], score: [0.9531440138816833, 0.04685598239302635]\n",
            "花港观鱼附近有适合夜晚游玩的地方吗？ : ['不相似', '相似'], score: [0.9528563618659973, 0.04714369401335716]\n",
            "去花港观鱼旅行时需要注意哪些文化礼仪？ : ['不相似', '相似'], score: [0.953498899936676, 0.046501122415065765]\n",
            "花港观鱼附近有适合徒步或自行车活动的路线吗？ : ['不相似', '相似'], score: [0.9528154134750366, 0.04718456417322159]\n"
          ]
        }
      ]
    }
  ]
}